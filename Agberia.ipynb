{
  "nbformat": 4,
  "nbformat_minor": 0,
  "metadata": {
    "colab": {
      "provenance": [],
      "toc_visible": true,
      "authorship_tag": "ABX9TyOOeBu8DGOHAaeiwTuxwmLJ",
      "include_colab_link": true
    },
    "kernelspec": {
      "name": "python3",
      "display_name": "Python 3"
    },
    "language_info": {
      "name": "python"
    }
  },
  "cells": [
    {
      "cell_type": "markdown",
      "metadata": {
        "id": "view-in-github",
        "colab_type": "text"
      },
      "source": [
        "<a href=\"https://colab.research.google.com/github/Dororoland/dataportfolio/blob/main/Agberia.ipynb\" target=\"_parent\"><img src=\"https://colab.research.google.com/assets/colab-badge.svg\" alt=\"Open In Colab\"/></a>"
      ]
    },
    {
      "cell_type": "markdown",
      "source": [],
      "metadata": {
        "id": "wcgKw6j4Lk9j"
      }
    },
    {
      "cell_type": "markdown",
      "source": [
        "# AGBERIA FOR PYTHON"
      ],
      "metadata": {
        "id": "A658PTNTGgj8"
      }
    },
    {
      "cell_type": "markdown",
      "source": [
        "### CONVERSION OF DECIMAL TO FRACTION"
      ],
      "metadata": {
        "id": "dS5af_svG-AE"
      }
    },
    {
      "cell_type": "code",
      "execution_count": 7,
      "metadata": {
        "colab": {
          "base_uri": "https://localhost:8080/"
        },
        "id": "2F9R23x9EMi_",
        "outputId": "7d6d36d6-5a9e-4e1a-c660-1c32d5e4519b"
      },
      "outputs": [
        {
          "output_type": "stream",
          "name": "stdout",
          "text": [
            "Enter a Number to convert to Decimal : .56\n",
            "The Decimal is  0.56 \n",
            "The fraction is  56  \\  100 \n",
            "The percentage is  56.00000000000001\n"
          ]
        }
      ],
      "source": [
        "#Getting input from the users\n",
        "text = input(\"Enter a Number to convert to Decimal : \")\n",
        "\n",
        "#getting the length of the deciaml\n",
        "exp = int(len(text)) - 1\n",
        "\n",
        "#converting the decimal to float\n",
        "n = float(text)\n",
        "\n",
        "#getting the numurator, Deminator and Percentage\n",
        "num = int(n * 10**exp)\n",
        "dem = 10**exp\n",
        "pen = n * 100\n",
        "\n",
        "#printing out the result\n",
        "\n",
        "print(\n",
        "    \"The Decimal is \", n, \"\\nThe fraction is \", num, \"\\\", dem, \"\\nThe percentage is \", pen\n",
        ")\n",
        "\n",
        "\n",
        "\n",
        "\n"
      ]
    }
  ]
}